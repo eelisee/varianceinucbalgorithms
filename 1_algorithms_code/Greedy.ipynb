{
 "cells": [
  {
   "cell_type": "markdown",
   "metadata": {},
   "source": [
    "# epsilon - Greedy Algorithm"
   ]
  },
  {
   "cell_type": "code",
   "execution_count": 6,
   "metadata": {},
   "outputs": [],
   "source": [
    "import numpy as np\n",
    "import csv"
   ]
  },
  {
   "cell_type": "markdown",
   "metadata": {},
   "source": [
    "## Class BanditAlgorithm: Initialization"
   ]
  },
  {
   "cell_type": "code",
   "execution_count": 7,
   "metadata": {},
   "outputs": [],
   "source": [
    "class BanditAlgorithm:\n",
    "    def __init__(self, name):\n",
    "        self.name = name\n",
    "        self.results = []\n",
    "\n",
    "    def add_result(self, timestep, iteration, total_reward, suboptimal_arms, regret, zeros_count, ones_count):\n",
    "        self.results.append((timestep, iteration, total_reward, suboptimal_arms, regret, np.sum(zeros_count), np.sum(ones_count)))\n",
    "\n",
    "    def save_results_to_csv(self, filename):\n",
    "        self.results.sort(key=lambda x: (x[1], x[0]))\n",
    "        with open(filename, mode='w', newline='') as file:\n",
    "            writer = csv.writer(file)\n",
    "            writer.writerow(['Timestep', 'Iteration', 'Total Reward', 'Suboptimal Arms', 'Regret', 'Zeros Count', 'Ones Count'])\n",
    "            for result in self.results:\n",
    "                writer.writerow(result)\n",
    "\n",
    "    def calculate_average_results(self):\n",
    "        time_steps = sorted(set(result[0] for result in self.results))\n",
    "        avg_results = []\n",
    "        for timestep in time_steps:\n",
    "            total_reward_sum = 0\n",
    "            suboptimal_arms_sum = 0\n",
    "            regret_sum = 0\n",
    "            zeros_count_sum = 0\n",
    "            ones_count_sum = 0\n",
    "            count = 0\n",
    "            for result in self.results:\n",
    "                if result[0] == timestep:\n",
    "                    total_reward_sum += result[2]\n",
    "                    suboptimal_arms_sum += result[3]\n",
    "                    regret_sum += result[4]\n",
    "                    zeros_count_sum += result[5]\n",
    "                    ones_count_sum += result[6]\n",
    "                    count += 1\n",
    "            avg_total_reward = total_reward_sum / count if count > 0 else 0\n",
    "            avg_suboptimal_arms = suboptimal_arms_sum / count if count > 0 else 0\n",
    "            avg_regret = regret_sum / count if count > 0 else 0\n",
    "            avg_zeros_count = zeros_count_sum / count if count > 0 else 0\n",
    "            avg_ones_count = ones_count_sum / count if count > 0 else 0\n",
    "            avg_results.append((timestep, avg_total_reward, avg_suboptimal_arms, avg_regret, avg_zeros_count, avg_ones_count))\n",
    "        return avg_results"
   ]
  },
  {
   "cell_type": "markdown",
   "metadata": {},
   "source": [
    "### epsilon-Greedy Defintion"
   ]
  },
  {
   "cell_type": "code",
   "execution_count": 8,
   "metadata": {},
   "outputs": [],
   "source": [
    "\n",
    "def epsilon_greedy(arm_means, num_arms, total_steps, epsilon):\n",
    "    Q = np.zeros(num_arms)\n",
    "    N = np.zeros(num_arms)\n",
    "    total_reward = 0\n",
    "    suboptimal_arms_count = 0\n",
    "    total_regret = 0\n",
    "    regret = np.zeros(total_steps)\n",
    "    zeros_count = np.zeros(total_steps)\n",
    "    ones_count = np.zeros(total_steps)\n",
    "\n",
    "    for t in range(total_steps):\n",
    "        if np.random.rand() < epsilon:\n",
    "            # Exploration\n",
    "            arm = np.random.choice(num_arms)\n",
    "        else:\n",
    "            # Exploitation\n",
    "            arm = np.argmax(Q)\n",
    "\n",
    "        reward = np.random.binomial(1, arm_means[arm])\n",
    "        total_reward += reward\n",
    "        N[arm] += 1\n",
    "        Q[arm] += (reward - Q[arm]) / N[arm]  # Update Q-value incrementally, calculation is already memory optimized\n",
    "        regret[t] = np.max(arm_means) - arm_means[arm]\n",
    "        total_regret += regret[t]\n",
    "        if arm != np.argmax(arm_means):\n",
    "            suboptimal_arms_count += 1\n",
    "        if reward == 0:\n",
    "            zeros_count[t] += 1\n",
    "        else:\n",
    "            ones_count[t] += 1\n",
    "\n",
    "    total_regret = round(total_regret, 1)\n",
    "\n",
    "    return total_reward, suboptimal_arms_count, total_regret, zeros_count, ones_count\n"
   ]
  },
  {
   "cell_type": "markdown",
   "metadata": {},
   "source": [
    "### Run Simulation Function"
   ]
  },
  {
   "cell_type": "code",
   "execution_count": 9,
   "metadata": {},
   "outputs": [],
   "source": [
    "def run_simulation(algorithm, parameters):\n",
    "    arm_means = np.array([0.9, 0.8])  # Example mean rewards of arms\n",
    "    num_arms = len(arm_means)\n",
    "    epsilon = 0.1  # Epsilon value for epsilon-greedy\n",
    "    for iteration in range(1, 101):\n",
    "        for param in parameters:\n",
    "            total_reward, suboptimal_arms_count, total_regret, zeros_count, ones_count = epsilon_greedy(arm_means, num_arms, param, epsilon)\n",
    "            algorithm.add_result(param, iteration, total_reward, suboptimal_arms_count, total_regret, zeros_count, ones_count)\n"
   ]
  },
  {
   "cell_type": "markdown",
   "metadata": {},
   "source": [
    "### epsilon - greedy for different time horizons"
   ]
  },
  {
   "cell_type": "code",
   "execution_count": 10,
   "metadata": {},
   "outputs": [],
   "source": [
    "time_horizons = [2, 3, 100, 200, 2000, 10000, 20000, 40000, 60000, 80000, 100000]\n",
    "\n",
    "algorithms = [\n",
    "    BanditAlgorithm(\"EpsilonGreedy\"),\n",
    "]\n",
    "\n",
    "for algorithm in algorithms:\n",
    "    run_simulation(algorithm, time_horizons)\n",
    "    algorithm.save_results_to_csv(algorithm.name + '_results.csv')\n",
    "    avg_results = algorithm.calculate_average_results()\n",
    "    with open(algorithm.name + '_average_results.csv', mode='w', newline='') as file:\n",
    "        writer = csv.writer(file)\n",
    "        writer.writerow(['Timestep', 'Average Total Reward', 'Average Suboptimal Arms', 'Average Regret', 'Average Zeros Count', 'Average Ones Count'])\n",
    "        for result in avg_results:\n",
    "            writer.writerow(result)"
   ]
  }
 ],
 "metadata": {
  "kernelspec": {
   "display_name": "myenv",
   "language": "python",
   "name": "python3"
  },
  "language_info": {
   "codemirror_mode": {
    "name": "ipython",
    "version": 3
   },
   "file_extension": ".py",
   "mimetype": "text/x-python",
   "name": "python",
   "nbconvert_exporter": "python",
   "pygments_lexer": "ipython3",
   "version": "3.10.7"
  }
 },
 "nbformat": 4,
 "nbformat_minor": 2
}
