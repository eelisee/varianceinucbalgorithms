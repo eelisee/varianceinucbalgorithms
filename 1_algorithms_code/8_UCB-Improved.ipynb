{
 "cells": [
  {
   "cell_type": "markdown",
   "metadata": {},
   "source": [
    "# UCB-Improved Algorithm"
   ]
  },
  {
   "cell_type": "code",
   "execution_count": 16,
   "metadata": {},
   "outputs": [],
   "source": [
    "import numpy as np\n",
    "import csv\n",
    "import math"
   ]
  },
  {
   "cell_type": "markdown",
   "metadata": {},
   "source": [
    "# Class BanditAlgorithm: Initialization"
   ]
  },
  {
   "cell_type": "code",
   "execution_count": 17,
   "metadata": {},
   "outputs": [],
   "source": [
    "class BanditAlgorithm:\n",
    "    def __init__(self, name):\n",
    "        self.name = name\n",
    "        self.results = []\n",
    "\n",
    "    def add_result(self, param, iteration, total_reward, suboptimal_arms_count, total_regret, zeros_count, ones_count):\n",
    "        self.results.append([param, iteration, total_reward, suboptimal_arms_count, round(total_regret, 2), zeros_count, ones_count])\n",
    "\n",
    "    def save_results_to_csv(self, filename):\n",
    "        with open(filename, mode='w', newline='') as file:\n",
    "            writer = csv.writer(file)\n",
    "            writer.writerow(['Time Horizon', 'Iteration', 'Total Reward', 'Suboptimal Arms Count', 'Total Regret', 'Zeros Count', 'Ones Count'])\n",
    "            for result in self.results:\n",
    "                writer.writerow(result)\n",
    "\n",
    "    def calculate_average_results(self):\n",
    "        avg_results = {}\n",
    "        for result in self.results:\n",
    "            param = result[0]\n",
    "            if param not in avg_results:\n",
    "                avg_results[param] = [0, 0, 0, 0, 0]\n",
    "            avg_results[param][0] += result[2]  # Total Reward\n",
    "            avg_results[param][1] += result[3]  # Suboptimal Arms Count\n",
    "            avg_results[param][2] += result[4]  # Total Regret\n",
    "            avg_results[param][3] += result[5]  # Zeros Count\n",
    "            avg_results[param][4] += result[6]  # Ones Count\n",
    "        \n",
    "        for param in avg_results:\n",
    "            avg_results[param] = [param] + [x / 100 for x in avg_results[param]]\n",
    "        return list(avg_results.values())"
   ]
  },
  {
   "cell_type": "markdown",
   "metadata": {},
   "source": [
    "## Definition UCB-Improved"
   ]
  },
  {
   "cell_type": "code",
   "execution_count": 18,
   "metadata": {},
   "outputs": [],
   "source": [
    "def UCB_Improved_simulation(algorithm, arm_means, time_horizon):\n",
    "    K = len(arm_means)\n",
    "    T_k = np.zeros(K)  # Number of times each arm has been played\n",
    "    X_k = np.zeros(K)  # Sum of rewards for each arm\n",
    "    zeros_count = 0\n",
    "    ones_count = 0\n",
    "    \n",
    "    B_t = set(range(K))\n",
    "    delta_t = 1\n",
    "    total_reward = 0\n",
    "    suboptimal_arms_count = 0\n",
    "    total_regret = 0\n",
    "    \n",
    "    def play_arm(arm):\n",
    "        nonlocal zeros_count, ones_count, total_reward, suboptimal_arms_count, total_regret\n",
    "        reward = np.random.binomial(1, arm_means[arm])\n",
    "        T_k[arm] += 1\n",
    "        X_k[arm] += reward\n",
    "        total_reward += reward\n",
    "        if reward == 0:\n",
    "            zeros_count += 1\n",
    "        else:\n",
    "            ones_count += 1\n",
    "        if arm != np.argmax(arm_means):\n",
    "            suboptimal_arms_count += 1\n",
    "            total_regret += np.max(arm_means) - arm_means[arm]\n",
    "        return reward\n",
    "    \n",
    "    # Initialization: Play each arm once\n",
    "    #for arm in range(K):\n",
    "        play_arm(arm)\n",
    "    \n",
    "    # Exploration phase\n",
    "    max_t = int(math.floor(0.5 * math.log2(time_horizon / math.exp(1))))\n",
    "    for t in range(max_t + 1):\n",
    "        if len(B_t) > 1:\n",
    "            for arm in list(B_t):\n",
    "                n_plays = int(math.ceil(2 * math.log(time_horizon * delta_t ** 2) / delta_t ** 2))\n",
    "                for _ in range(n_plays):\n",
    "                    play_arm(arm)\n",
    "        \n",
    "        # Calculate UCB-Improved and prune arms\n",
    "        ucb_improved = {arm: (X_k[arm] / T_k[arm]) - math.sqrt(math.log(time_horizon * delta_t ** 2) / (2 * T_k[arm])) for arm in B_t}\n",
    "        ucb_improved_star = max(ucb_improved.values())\n",
    "        \n",
    "        for arm in list(B_t):\n",
    "            if T_k[arm] > 0 and (X_k[arm] / T_k[arm]) + math.sqrt(math.log(time_horizon * delta_t ** 2) / (2 * T_k[arm])) < ucb_improved_star:\n",
    "                B_t.remove(arm)\n",
    "        \n",
    "        delta_t /= 2\n",
    "    \n",
    "    # Exploitation phase\n",
    "    best_arm = max(B_t, key=lambda arm: X_k[arm] / T_k[arm] if T_k[arm] > 0 else float('-inf'))\n",
    "    for _ in range(int(time_horizon - sum(T_k))):\n",
    "        play_arm(best_arm)\n",
    "    \n",
    "    return total_reward, suboptimal_arms_count, total_regret, zeros_count, ones_count"
   ]
  },
  {
   "cell_type": "markdown",
   "metadata": {},
   "source": [
    "## Run Simulation Function"
   ]
  },
  {
   "cell_type": "code",
   "execution_count": 19,
   "metadata": {},
   "outputs": [],
   "source": [
    "def run_simulation(algorithm, parameters, arm_means):\n",
    "    for iteration in range(1, 101):\n",
    "        for param in parameters:\n",
    "            total_reward, suboptimal_arms_count, total_regret, zeros_count, ones_count = UCB_Improved_simulation(algorithm, arm_means, param)\n",
    "            algorithm.add_result(param, iteration, total_reward, suboptimal_arms_count, total_regret, zeros_count, ones_count)\n"
   ]
  },
  {
   "cell_type": "markdown",
   "metadata": {},
   "source": [
    "## UCB-Improved for different time horizons"
   ]
  },
  {
   "cell_type": "code",
   "execution_count": 20,
   "metadata": {},
   "outputs": [],
   "source": [
    "#time_horizons = [2, 3, 100, 200, 2000, 10000, 20000, 40000, 60000, 80000, 100000]\n",
    "\n",
    "time_horizons = [2, 3, 100, 200, 2000]\n",
    "\n",
    "# Beispiel-Algorithmen\n",
    "algorithms = [\n",
    "    BanditAlgorithm(\"UCB-Improved\"),\n",
    "]\n",
    "\n",
    "# Beispiel-Mittelwerte der Arme\n",
    "arm_means = np.array([0.9, 0.8])\n",
    "\n",
    "# Simulation durchführen und Ergebnisse speichern\n",
    "for algorithm in algorithms:\n",
    "    run_simulation(algorithm, time_horizons, arm_means)\n",
    "    results_path = r'C:/Users/canis/OneDrive\\Dokumente/uni/uni-surface/FSS 2024/BA/bachelorarbeit_vrlfg/BA/github/BA_code/2_algorithms_results'\n",
    "    algorithm.save_results_to_csv(f'{results_path}\\{algorithm.name}_results.csv')\n",
    "    avg_results = algorithm.calculate_average_results()\n",
    "    with open(f'{results_path}\\{algorithm.name}_average_results.csv', mode='w', newline='') as file:\n",
    "        writer = csv.writer(file)\n",
    "        writer.writerow(['Timestep', 'Average Total Reward', 'Average Suboptimal Arms', 'Average Regret', 'Average Zeros Count', 'Average Ones Count'])\n",
    "        for result in avg_results:\n",
    "            writer.writerow(result)\n"
   ]
  }
 ],
 "metadata": {
  "kernelspec": {
   "display_name": ".venv",
   "language": "python",
   "name": "python3"
  },
  "language_info": {
   "codemirror_mode": {
    "name": "ipython",
    "version": 3
   },
   "file_extension": ".py",
   "mimetype": "text/x-python",
   "name": "python",
   "nbconvert_exporter": "python",
   "pygments_lexer": "ipython3",
   "version": "3.10.7"
  }
 },
 "nbformat": 4,
 "nbformat_minor": 2
}
