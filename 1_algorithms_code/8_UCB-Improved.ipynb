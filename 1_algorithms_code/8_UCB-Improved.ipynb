{
 "cells": [
  {
   "cell_type": "markdown",
   "metadata": {},
   "source": [
    "# UCB-Improved Algorithm"
   ]
  },
  {
   "cell_type": "code",
   "execution_count": 1,
   "metadata": {},
   "outputs": [],
   "source": [
    "import numpy as np\n",
    "import csv\n",
    "import math"
   ]
  },
  {
   "cell_type": "markdown",
   "metadata": {},
   "source": [
    "## Class BanditAlgorithm Initialization"
   ]
  },
  {
   "cell_type": "code",
   "execution_count": 2,
   "metadata": {},
   "outputs": [],
   "source": [
    "class BanditAlgorithm:\n",
    "    def __init__(self, name):\n",
    "        self.name = name\n",
    "        self.results = []\n",
    "\n",
    "    def add_result(self, param, iteration, total_reward, suboptimal_arms_count, total_regret, zeros_count, ones_count):\n",
    "        self.results.append([param, iteration, total_reward, suboptimal_arms_count, round(total_regret, 2), zeros_count, ones_count])\n",
    "\n",
    "    def save_results_to_csv(self, filename):\n",
    "        with open(filename, mode='w', newline='') as file:\n",
    "            writer = csv.writer(file)\n",
    "            writer.writerow(['Time Horizon', 'Iteration', 'Total Reward', 'Suboptimal Arms Count', 'Total Regret', 'Zeros Count', 'Ones Count'])\n",
    "            for result in self.results:\n",
    "                writer.writerow(result)\n",
    "\n",
    "    def calculate_average_results(self):\n",
    "        avg_results = {}\n",
    "        for result in self.results:\n",
    "            param = result[0]\n",
    "            if param not in avg_results:\n",
    "                avg_results[param] = [0, 0, 0, 0, 0]\n",
    "            avg_results[param][0] += result[2]  # Total Reward\n",
    "            avg_results[param][1] += result[3]  # Suboptimal Arms Count\n",
    "            avg_results[param][2] += result[4]  # Total Regret\n",
    "            avg_results[param][3] += result[5]  # Zeros Count\n",
    "            avg_results[param][4] += result[6]  # Ones Count\n",
    "        \n",
    "        for param in avg_results:\n",
    "            avg_results[param] = [param] + [x / 100 for x in avg_results[param]]\n",
    "        return list(avg_results.values())"
   ]
  },
  {
   "cell_type": "markdown",
   "metadata": {},
   "source": [
    "## Definition UCB-Improved"
   ]
  },
  {
   "cell_type": "code",
   "execution_count": 3,
   "metadata": {},
   "outputs": [],
   "source": [
    "def UCB_Improved_simulation(algorithm, arm_means, time_horizon):\n",
    "    num_arms = len(arm_means)\n",
    "    rewards = np.zeros(num_arms)\n",
    "    pulls = np.zeros(num_arms)\n",
    "    total_reward = 0\n",
    "    suboptimal_arms_count = 0\n",
    "    total_regret = 0\n",
    "    zeros_count = 0\n",
    "    ones_count = 0\n",
    "\n",
    "    delta = 1\n",
    "    B = list(range(num_arms))\n",
    "    UCB_Improved_max = np.zeros(num_arms)\n",
    "\n",
    "    first_phase_end = int(np.floor(0.5 * np.log2(time_horizon / np.exp(1))))\n",
    "    \n",
    "    t = 0  # Laufvariable für Phase\n",
    "    z = 0  # Zeitschritte\n",
    "    \n",
    "    while z < time_horizon:\n",
    "        if t < first_phase_end:\n",
    "            for m in B:\n",
    "                max_pulls = math.ceil((2 * np.log(time_horizon * delta**2)) / delta**2)\n",
    "                if pulls[m] <= max_pulls:\n",
    "                    reward = np.random.binomial(1, arm_means[m])\n",
    "                    rewards[m] += reward\n",
    "                    pulls[m] += 1\n",
    "                    total_reward += reward\n",
    "                    total_regret += np.max(arm_means) - arm_means[m]\n",
    "                    if reward == 0:\n",
    "                        zeros_count += 1\n",
    "                    else:\n",
    "                        ones_count += 1\n",
    "                    if m != np.argmax(arm_means):\n",
    "                        suboptimal_arms_count += 1\n",
    "                    z += 1  # Erhöhe die Zeitschritte nach jedem Ziehen\n",
    "                    if z >= time_horizon:\n",
    "                        break\n",
    "            \n",
    "            if z < time_horizon:  # Nur eliminieren, wenn noch Zeit übrig ist\n",
    "                UCB_Improved_max = max((rewards[j] / pulls[j]) - np.sqrt((np.log(time_horizon * delta**2)) / (2 * max_pulls)) for j in B)\n",
    "                B = [k for k in B if (rewards[k] / pulls[k]) + np.sqrt((np.log(time_horizon * delta**2)) / (2 * max_pulls)) >= UCB_Improved_max]\n",
    "                delta /= 2\n",
    "                t += 1  # Nächste Phase starten\n",
    "        else:\n",
    "            # Zweite Phase\n",
    "            if len(B) == 1:\n",
    "                best_arm = B[0]\n",
    "            else:\n",
    "                best_arm = max(B, key=lambda k: rewards[k] / pulls[k])\n",
    "            reward = np.random.binomial(1, arm_means[best_arm])\n",
    "            total_reward += reward\n",
    "            pulls[best_arm] += 1\n",
    "            total_regret += np.max(arm_means) - arm_means[best_arm]\n",
    "            if reward == 0:\n",
    "                zeros_count += 1\n",
    "            else:\n",
    "                ones_count += 1\n",
    "            if best_arm != np.argmax(arm_means):\n",
    "                suboptimal_arms_count += 1\n",
    "            z += 1  # Erhöhe die Zeitschritte nach jedem Ziehen\n",
    "\n",
    "\n",
    "    return total_reward, suboptimal_arms_count, total_regret, zeros_count, ones_count"
   ]
  },
  {
   "cell_type": "markdown",
   "metadata": {},
   "source": [
    "## Run Simulation Function"
   ]
  },
  {
   "cell_type": "code",
   "execution_count": 4,
   "metadata": {},
   "outputs": [],
   "source": [
    "def run_simulation(algorithm, parameters, arm_means):\n",
    "    for iteration in range(1, 101):\n",
    "        for param in parameters:\n",
    "            total_reward, suboptimal_arms_count, total_regret, zeros_count, ones_count = UCB_Improved_simulation(algorithm, arm_means, param)\n",
    "            algorithm.add_result(param, iteration, total_reward, suboptimal_arms_count, total_regret, zeros_count, ones_count)"
   ]
  },
  {
   "cell_type": "markdown",
   "metadata": {},
   "source": [
    "## UCB-Improved for different time horizons"
   ]
  },
  {
   "cell_type": "code",
   "execution_count": 5,
   "metadata": {},
   "outputs": [
    {
     "name": "stderr",
     "output_type": "stream",
     "text": [
      "C:\\Users\\canis\\AppData\\Local\\Temp\\ipykernel_8616\\3639331892.py:50: RuntimeWarning: invalid value encountered in scalar divide\n",
      "  best_arm = max(B, key=lambda k: rewards[k] / pulls[k])\n"
     ]
    },
    {
     "ename": "KeyboardInterrupt",
     "evalue": "",
     "output_type": "error",
     "traceback": [
      "\u001b[1;31m---------------------------------------------------------------------------\u001b[0m",
      "\u001b[1;31mKeyboardInterrupt\u001b[0m                         Traceback (most recent call last)",
      "Cell \u001b[1;32mIn[5], line 13\u001b[0m\n\u001b[0;32m     11\u001b[0m \u001b[38;5;66;03m# Simulation durchführen und Ergebnisse speichern\u001b[39;00m\n\u001b[0;32m     12\u001b[0m \u001b[38;5;28;01mfor\u001b[39;00m algorithm \u001b[38;5;129;01min\u001b[39;00m algorithms:\n\u001b[1;32m---> 13\u001b[0m     \u001b[43mrun_simulation\u001b[49m\u001b[43m(\u001b[49m\u001b[43malgorithm\u001b[49m\u001b[43m,\u001b[49m\u001b[43m \u001b[49m\u001b[43mtime_horizons\u001b[49m\u001b[43m,\u001b[49m\u001b[43m \u001b[49m\u001b[43marm_means\u001b[49m\u001b[43m)\u001b[49m\n\u001b[0;32m     14\u001b[0m     results_path \u001b[38;5;241m=\u001b[39m \u001b[38;5;124mr\u001b[39m\u001b[38;5;124m'\u001b[39m\u001b[38;5;124mC:/Users/canis/OneDrive/Dokumente/uni/uni-surface/FSS 2024/BA/bachelorarbeit_vrlfg/BA/github/BA_code/2_algorithms_results\u001b[39m\u001b[38;5;124m'\u001b[39m\n\u001b[0;32m     15\u001b[0m     algorithm\u001b[38;5;241m.\u001b[39msave_results_to_csv(\u001b[38;5;124mf\u001b[39m\u001b[38;5;124m'\u001b[39m\u001b[38;5;132;01m{\u001b[39;00mresults_path\u001b[38;5;132;01m}\u001b[39;00m\u001b[38;5;124m/\u001b[39m\u001b[38;5;132;01m{\u001b[39;00malgorithm\u001b[38;5;241m.\u001b[39mname\u001b[38;5;132;01m}\u001b[39;00m\u001b[38;5;124m_results.csv\u001b[39m\u001b[38;5;124m'\u001b[39m)\n",
      "Cell \u001b[1;32mIn[4], line 4\u001b[0m, in \u001b[0;36mrun_simulation\u001b[1;34m(algorithm, parameters, arm_means)\u001b[0m\n\u001b[0;32m      2\u001b[0m \u001b[38;5;28;01mfor\u001b[39;00m iteration \u001b[38;5;129;01min\u001b[39;00m \u001b[38;5;28mrange\u001b[39m(\u001b[38;5;241m1\u001b[39m, \u001b[38;5;241m101\u001b[39m):\n\u001b[0;32m      3\u001b[0m     \u001b[38;5;28;01mfor\u001b[39;00m param \u001b[38;5;129;01min\u001b[39;00m parameters:\n\u001b[1;32m----> 4\u001b[0m         total_reward, suboptimal_arms_count, total_regret, zeros_count, ones_count \u001b[38;5;241m=\u001b[39m \u001b[43mUCB_Improved_simulation\u001b[49m\u001b[43m(\u001b[49m\u001b[43malgorithm\u001b[49m\u001b[43m,\u001b[49m\u001b[43m \u001b[49m\u001b[43marm_means\u001b[49m\u001b[43m,\u001b[49m\u001b[43m \u001b[49m\u001b[43mparam\u001b[49m\u001b[43m)\u001b[49m\n\u001b[0;32m      5\u001b[0m         algorithm\u001b[38;5;241m.\u001b[39madd_result(param, iteration, total_reward, suboptimal_arms_count, total_regret, zeros_count, ones_count)\n",
      "Cell \u001b[1;32mIn[3], line 59\u001b[0m, in \u001b[0;36mUCB_Improved_simulation\u001b[1;34m(algorithm, arm_means, time_horizon)\u001b[0m\n\u001b[0;32m     57\u001b[0m \u001b[38;5;28;01melse\u001b[39;00m:\n\u001b[0;32m     58\u001b[0m     ones_count \u001b[38;5;241m+\u001b[39m\u001b[38;5;241m=\u001b[39m \u001b[38;5;241m1\u001b[39m\n\u001b[1;32m---> 59\u001b[0m \u001b[38;5;28;01mif\u001b[39;00m best_arm \u001b[38;5;241m!=\u001b[39m \u001b[43mnp\u001b[49m\u001b[38;5;241;43m.\u001b[39;49m\u001b[43margmax\u001b[49m\u001b[43m(\u001b[49m\u001b[43marm_means\u001b[49m\u001b[43m)\u001b[49m:\n\u001b[0;32m     60\u001b[0m     suboptimal_arms_count \u001b[38;5;241m+\u001b[39m\u001b[38;5;241m=\u001b[39m \u001b[38;5;241m1\u001b[39m\n\u001b[0;32m     61\u001b[0m z \u001b[38;5;241m+\u001b[39m\u001b[38;5;241m=\u001b[39m \u001b[38;5;241m1\u001b[39m  \u001b[38;5;66;03m# Erhöhe die Zeitschritte nach jedem Ziehen\u001b[39;00m\n",
      "File \u001b[1;32mc:\\Users\\canis\\OneDrive\\Dokumente\\uni\\uni-surface\\FSS 2024\\BA\\bachelorarbeit_vrlfg\\BA\\github\\BA_code\\.venv\\lib\\site-packages\\numpy\\_core\\fromnumeric.py:1298\u001b[0m, in \u001b[0;36margmax\u001b[1;34m(a, axis, out, keepdims)\u001b[0m\n\u001b[0;32m   1210\u001b[0m \u001b[38;5;250m\u001b[39m\u001b[38;5;124;03m\"\"\"\u001b[39;00m\n\u001b[0;32m   1211\u001b[0m \u001b[38;5;124;03mReturns the indices of the maximum values along an axis.\u001b[39;00m\n\u001b[0;32m   1212\u001b[0m \n\u001b[1;32m   (...)\u001b[0m\n\u001b[0;32m   1295\u001b[0m \u001b[38;5;124;03m(2, 1, 4)\u001b[39;00m\n\u001b[0;32m   1296\u001b[0m \u001b[38;5;124;03m\"\"\"\u001b[39;00m\n\u001b[0;32m   1297\u001b[0m kwds \u001b[38;5;241m=\u001b[39m {\u001b[38;5;124m'\u001b[39m\u001b[38;5;124mkeepdims\u001b[39m\u001b[38;5;124m'\u001b[39m: keepdims} \u001b[38;5;28;01mif\u001b[39;00m keepdims \u001b[38;5;129;01mis\u001b[39;00m \u001b[38;5;129;01mnot\u001b[39;00m np\u001b[38;5;241m.\u001b[39m_NoValue \u001b[38;5;28;01melse\u001b[39;00m {}\n\u001b[1;32m-> 1298\u001b[0m \u001b[38;5;28;01mreturn\u001b[39;00m _wrapfunc(a, \u001b[38;5;124m'\u001b[39m\u001b[38;5;124margmax\u001b[39m\u001b[38;5;124m'\u001b[39m, axis\u001b[38;5;241m=\u001b[39maxis, out\u001b[38;5;241m=\u001b[39mout, \u001b[38;5;241m*\u001b[39m\u001b[38;5;241m*\u001b[39mkwds)\n",
      "File \u001b[1;32mc:\\Users\\canis\\OneDrive\\Dokumente\\uni\\uni-surface\\FSS 2024\\BA\\bachelorarbeit_vrlfg\\BA\\github\\BA_code\\.venv\\lib\\site-packages\\numpy\\_core\\fromnumeric.py:57\u001b[0m, in \u001b[0;36m_wrapfunc\u001b[1;34m(obj, method, *args, **kwds)\u001b[0m\n\u001b[0;32m     54\u001b[0m     \u001b[38;5;28;01mreturn\u001b[39;00m _wrapit(obj, method, \u001b[38;5;241m*\u001b[39margs, \u001b[38;5;241m*\u001b[39m\u001b[38;5;241m*\u001b[39mkwds)\n\u001b[0;32m     56\u001b[0m \u001b[38;5;28;01mtry\u001b[39;00m:\n\u001b[1;32m---> 57\u001b[0m     \u001b[38;5;28;01mreturn\u001b[39;00m bound(\u001b[38;5;241m*\u001b[39margs, \u001b[38;5;241m*\u001b[39m\u001b[38;5;241m*\u001b[39mkwds)\n\u001b[0;32m     58\u001b[0m \u001b[38;5;28;01mexcept\u001b[39;00m \u001b[38;5;167;01mTypeError\u001b[39;00m:\n\u001b[0;32m     59\u001b[0m     \u001b[38;5;66;03m# A TypeError occurs if the object does have such a method in its\u001b[39;00m\n\u001b[0;32m     60\u001b[0m     \u001b[38;5;66;03m# class, but its signature is not identical to that of NumPy's. This\u001b[39;00m\n\u001b[1;32m   (...)\u001b[0m\n\u001b[0;32m     64\u001b[0m     \u001b[38;5;66;03m# Call _wrapit from within the except clause to ensure a potential\u001b[39;00m\n\u001b[0;32m     65\u001b[0m     \u001b[38;5;66;03m# exception has a traceback chain.\u001b[39;00m\n\u001b[0;32m     66\u001b[0m     \u001b[38;5;28;01mreturn\u001b[39;00m _wrapit(obj, method, \u001b[38;5;241m*\u001b[39margs, \u001b[38;5;241m*\u001b[39m\u001b[38;5;241m*\u001b[39mkwds)\n",
      "\u001b[1;31mKeyboardInterrupt\u001b[0m: "
     ]
    }
   ],
   "source": [
    "time_horizons = [2, 3, 100, 200, 2000, 10000, 20000, 40000, 60000, 80000, 100000]\n",
    "\n",
    "# Beispiel-Algorithmen\n",
    "algorithms = [\n",
    "    BanditAlgorithm(\"8_UCB-Improved\"),\n",
    "]\n",
    "\n",
    "# Beispiel-Mittelwerte der Arme\n",
    "arm_means = np.array([0.9, 0.8])\n",
    "\n",
    "# Simulation durchführen und Ergebnisse speichern\n",
    "for algorithm in algorithms:\n",
    "    run_simulation(algorithm, time_horizons, arm_means)\n",
    "    results_path = r'C:/Users/canis/OneDrive/Dokumente/uni/uni-surface/FSS 2024/BA/bachelorarbeit_vrlfg/BA/github/BA_code/2_algorithms_results'\n",
    "    algorithm.save_results_to_csv(f'{results_path}/{algorithm.name}_results.csv')\n",
    "    avg_results = algorithm.calculate_average_results()\n",
    "    with open(f'{results_path}/{algorithm.name}_average_results.csv', mode='w', newline='') as file:\n",
    "        writer = csv.writer(file)\n",
    "        writer.writerow(['Timestep', 'Average Total Reward', 'Average Suboptimal Arms', 'Average Regret', 'Average Zeros Count', 'Average Ones Count'])\n",
    "        for result in avg_results:\n",
    "            writer.writerow(result)"
   ]
  }
 ],
 "metadata": {
  "kernelspec": {
   "display_name": ".venv",
   "language": "python",
   "name": "python3"
  },
  "language_info": {
   "codemirror_mode": {
    "name": "ipython",
    "version": 3
   },
   "file_extension": ".py",
   "mimetype": "text/x-python",
   "name": "python",
   "nbconvert_exporter": "python",
   "pygments_lexer": "ipython3",
   "version": "3.10.7"
  }
 },
 "nbformat": 4,
 "nbformat_minor": 2
}
