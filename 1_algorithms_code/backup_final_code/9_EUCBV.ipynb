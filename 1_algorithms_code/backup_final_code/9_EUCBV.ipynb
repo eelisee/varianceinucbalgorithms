{
 "cells": [
  {
   "cell_type": "markdown",
   "metadata": {},
   "source": [
    "# EUCBV Algorithm"
   ]
  },
  {
   "cell_type": "code",
   "execution_count": 1,
   "metadata": {},
   "outputs": [],
   "source": [
    "import numpy as np\n",
    "import math\n",
    "import csv"
   ]
  },
  {
   "cell_type": "markdown",
   "metadata": {},
   "source": [
    "## Class BanditAlgorithm: Initialization"
   ]
  },
  {
   "cell_type": "code",
   "execution_count": 2,
   "metadata": {},
   "outputs": [],
   "source": [
    "class BanditAlgorithm:\n",
    "    def __init__(self, name):\n",
    "        self.name = name\n",
    "        self.results = []\n",
    "\n",
    "    def add_result(self, param, iteration, total_reward, suboptimal_arms_count, total_regret, zeros_count, ones_count):\n",
    "        self.results.append([param, iteration, total_reward, suboptimal_arms_count, round(total_regret, 2), zeros_count, ones_count])\n",
    "\n",
    "    def save_results_to_csv(self, filename):\n",
    "        with open(filename, mode='w', newline='') as file:\n",
    "            writer = csv.writer(file)\n",
    "            writer.writerow(['Timestep', 'Iteration', 'Total Reward', 'Suboptimal Arms Count', 'Total Regret', 'Zeros Count', 'Ones Count'])\n",
    "            for result in self.results:\n",
    "                writer.writerow(result)\n",
    "\n",
    "    def calculate_average_results(self):\n",
    "        avg_results = {}\n",
    "        for result in self.results:\n",
    "            param = result[0]\n",
    "            if param not in avg_results:\n",
    "                avg_results[param] = [0, 0, 0, 0, 0]\n",
    "            avg_results[param][0] += result[2]  # Total Reward\n",
    "            avg_results[param][1] += result[3]  # Suboptimal Arms Count\n",
    "            avg_results[param][2] += result[4]  # Total Regret\n",
    "            avg_results[param][3] += result[5]  # Zeros Count\n",
    "            avg_results[param][4] += result[6]  # Ones Count\n",
    "        \n",
    "        for param in avg_results:\n",
    "            avg_results[param] = [param] + [x / 100 for x in avg_results[param]]\n",
    "        return list(avg_results.values())"
   ]
  },
  {
   "cell_type": "markdown",
   "metadata": {},
   "source": [
    "# Definition EUCBV"
   ]
  },
  {
   "cell_type": "code",
   "execution_count": 3,
   "metadata": {},
   "outputs": [],
   "source": [
    "def EUCBV_simulation(algorithm, arm_means, time_horizon):\n",
    "    K = len(arm_means)\n",
    "    rho = 1 / 2\n",
    "    psi = time_horizon / (K**2)\n",
    "    \n",
    "    T_k = np.zeros(K)  # Number of times each arm has been played\n",
    "    X_k = np.zeros(K)  # Sum of rewards for each arm\n",
    "    sum_of_squares = np.zeros(K)  # Sum of squared differences for each arm\n",
    "    \n",
    "    zeros_count = 0\n",
    "    ones_count = 0\n",
    "    \n",
    "    B_t = set(range(K))\n",
    "    delta_t = 1\n",
    "    total_reward = 0\n",
    "    suboptimal_arms_count = 0\n",
    "    total_regret = 0\n",
    "    \n",
    "    def play_arm(arm):\n",
    "        nonlocal zeros_count, ones_count, total_reward, suboptimal_arms_count, total_regret\n",
    "        reward = np.random.binomial(1, arm_means[arm])\n",
    "        T_k[arm] += 1\n",
    "        X_k[arm] += reward\n",
    "        sum_of_squares[arm] += reward**2\n",
    "        total_reward += reward\n",
    "        \n",
    "        if reward == 0:\n",
    "            zeros_count += 1\n",
    "        else:\n",
    "            ones_count += 1\n",
    "        \n",
    "        if arm != np.argmax(arm_means):\n",
    "            suboptimal_arms_count += 1\n",
    "            total_regret += np.max(arm_means) - arm_means[arm]\n",
    "        \n",
    "        return reward\n",
    "    \n",
    "    for arm in range(K):\n",
    "        play_arm(arm)\n",
    "    \n",
    "    M = int(math.floor(0.5 * math.log2(time_horizon / math.exp(1))))\n",
    "    m = 0\n",
    "    n_0 = int(math.ceil(math.log(psi * time_horizon * delta_t**2) / (2 * delta_t)))\n",
    "    N_0 = K * n_0\n",
    "    \n",
    "    for t in range(K + 1, time_horizon + 1):\n",
    "        if len(B_t) == 1:\n",
    "            best_arm = next(iter(B_t))\n",
    "            play_arm(best_arm)\n",
    "            continue\n",
    "        \n",
    "        selected_arm = max(B_t, key=lambda arm_index: (X_k[arm_index] / T_k[arm_index]) + math.sqrt((rho * ((sum_of_squares[arm_index] / T_k[arm_index]) - (X_k[arm_index] / T_k[arm_index])**2 + 2) * math.log(psi * time_horizon * delta_t)) / (4 * T_k[arm_index])))\n",
    "        play_arm(selected_arm)\n",
    "        \n",
    "        for arm_index in list(B_t):\n",
    "            mean_estimate = X_k[arm_index] / T_k[arm_index]\n",
    "            variance_estimate = (sum_of_squares[arm_index] - T_k[arm_index] * (mean_estimate ** 2)) / T_k[arm_index]\n",
    "            bound = math.sqrt((rho * (variance_estimate + 2) * math.log(psi * time_horizon * delta_t)) / (4 * T_k[arm_index]))\n",
    "            \n",
    "            for k in range(K):\n",
    "                mean_reward = X_k[k] / T_k[k]\n",
    "                EUCBV = mean_reward - math.sqrt((rho * ((sum_of_squares[k] / T_k[k]) - (X_k[k] / T_k[k])**2 + 2) * math.log(psi * time_horizon * delta_t)) / (4 * T_k[k]))\n",
    "            maximum = np.max(EUCBV)\n",
    "\n",
    "            if mean_estimate + bound < maximum:\n",
    "                B_t.remove(arm_index)\n",
    "        \n",
    "        if t >= N_0 and m <= M:\n",
    "            delta_t /= 2\n",
    "            B_t = B_t\n",
    "            n_0 = int(math.ceil(math.log(psi * time_horizon * delta_t**2) / (2 * delta_t)))\n",
    "            N_0 = t + len(B_t) * n_0\n",
    "            m += 1\n",
    "    \n",
    "    return total_reward, suboptimal_arms_count, total_regret, zeros_count, ones_count"
   ]
  },
  {
   "cell_type": "markdown",
   "metadata": {},
   "source": [
    "## Run Simulation Function"
   ]
  },
  {
   "cell_type": "code",
   "execution_count": 4,
   "metadata": {},
   "outputs": [],
   "source": [
    "def run_simulation(algorithm, parameters, arm_means):\n",
    "    for iteration in range(1, 101):\n",
    "        for param in parameters:\n",
    "            total_reward, suboptimal_arms_count, total_regret, zeros_count, ones_count = EUCBV_simulation(algorithm, arm_means, param)\n",
    "            algorithm.add_result(param, iteration, total_reward, suboptimal_arms_count, total_regret, zeros_count, ones_count)\n"
   ]
  },
  {
   "cell_type": "markdown",
   "metadata": {},
   "source": [
    "## EUCBV for different time horizons"
   ]
  },
  {
   "cell_type": "code",
   "execution_count": 5,
   "metadata": {},
   "outputs": [],
   "source": [
    "time_horizons = [2, 3, 100, 200, 2000, 10000, 20000, 40000, 60000, 80000, 100000]\n",
    "\n",
    "algorithms = [\n",
    "    BanditAlgorithm(\"9_EUCBV\"),\n",
    "]\n",
    "\n",
    "arm_means = np.array([0.495, 0.5])\n",
    "\n",
    "for algorithm in algorithms:\n",
    "    run_simulation(algorithm, time_horizons, arm_means)\n",
    "    results_path = r'C:/Users/canis/OneDrive\\Dokumente/uni/uni-surface/FSS 2024/BA/bachelorarbeit_vrlfg/BA/github/BA_code/2_algorithms_results'\n",
    "    algorithm.save_results_to_csv(f'{results_path}\\{algorithm.name}_results_subopt_ver3.csv')\n",
    "    avg_results = algorithm.calculate_average_results()\n",
    "    with open(f'{results_path}\\{algorithm.name}_average_results_subopt_ver3.csv', mode='w', newline='') as file:\n",
    "        writer = csv.writer(file)\n",
    "        writer.writerow(['Timestep', 'Average Total Reward', 'Average Suboptimal Arms', 'Average Regret', 'Average Zeros Count', 'Average Ones Count'])\n",
    "        for result in avg_results:\n",
    "            writer.writerow(result)\n"
   ]
  }
 ],
 "metadata": {
  "kernelspec": {
   "display_name": ".venv",
   "language": "python",
   "name": "python3"
  },
  "language_info": {
   "codemirror_mode": {
    "name": "ipython",
    "version": 3
   },
   "file_extension": ".py",
   "mimetype": "text/x-python",
   "name": "python",
   "nbconvert_exporter": "python",
   "pygments_lexer": "ipython3",
   "version": "3.10.7"
  }
 },
 "nbformat": 4,
 "nbformat_minor": 2
}
