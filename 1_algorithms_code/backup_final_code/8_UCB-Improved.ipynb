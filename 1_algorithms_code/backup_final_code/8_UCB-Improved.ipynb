{
 "cells": [
  {
   "cell_type": "markdown",
   "metadata": {},
   "source": [
    "# UCB-Improved Algorithm"
   ]
  },
  {
   "cell_type": "code",
   "execution_count": 1,
   "metadata": {},
   "outputs": [],
   "source": [
    "import numpy as np\n",
    "import csv\n",
    "import math"
   ]
  },
  {
   "cell_type": "markdown",
   "metadata": {},
   "source": [
    "## Class BanditAlgorithm Initialization"
   ]
  },
  {
   "cell_type": "code",
   "execution_count": 2,
   "metadata": {},
   "outputs": [],
   "source": [
    "class BanditAlgorithm:\n",
    "    def __init__(self, name):\n",
    "        self.name = name\n",
    "        self.results = []\n",
    "\n",
    "    def add_result(self, param, iteration, total_reward, suboptimal_arms_count, total_regret, zeros_count, ones_count):\n",
    "        self.results.append([param, iteration, total_reward, suboptimal_arms_count, round(total_regret, 2), zeros_count, ones_count])\n",
    "\n",
    "    def save_results_to_csv(self, filename):\n",
    "        with open(filename, mode='w', newline='') as file:\n",
    "            writer = csv.writer(file)\n",
    "            writer.writerow(['Timestep', 'Iteration', 'Total Reward', 'Suboptimal Arms Count', 'Total Regret', 'Zeros Count', 'Ones Count'])\n",
    "            for result in self.results:\n",
    "                writer.writerow(result)\n",
    "\n",
    "    def calculate_average_results(self):\n",
    "        avg_results = {}\n",
    "        for result in self.results:\n",
    "            param = result[0]\n",
    "            if param not in avg_results:\n",
    "                avg_results[param] = [0, 0, 0, 0, 0]\n",
    "            avg_results[param][0] += result[2]  # Total Reward\n",
    "            avg_results[param][1] += result[3]  # Suboptimal Arms Count\n",
    "            avg_results[param][2] += result[4]  # Total Regret\n",
    "            avg_results[param][3] += result[5]  # Zeros Count\n",
    "            avg_results[param][4] += result[6]  # Ones Count\n",
    "        \n",
    "        for param in avg_results:\n",
    "            avg_results[param] = [param] + [x / 100 for x in avg_results[param]]\n",
    "        return list(avg_results.values())"
   ]
  },
  {
   "cell_type": "markdown",
   "metadata": {},
   "source": [
    "## Definition UCB-Improved"
   ]
  },
  {
   "cell_type": "code",
   "execution_count": 3,
   "metadata": {},
   "outputs": [],
   "source": [
    "def UCB_Improved_simulation(algorithm, arm_means, time_horizon):\n",
    "    num_arms = len(arm_means)\n",
    "    rewards = np.zeros(num_arms)\n",
    "    pulls = np.zeros(num_arms)\n",
    "    total_reward = 0\n",
    "    suboptimal_arms_count = 0\n",
    "    total_regret = 0\n",
    "    zeros_count = 0\n",
    "    ones_count = 0\n",
    "\n",
    "    delta = 1\n",
    "    B = list(range(num_arms))\n",
    "    UCB_Improved_max = np.zeros(num_arms)\n",
    "\n",
    "    first_phase_end = int(np.floor(0.5 * np.log2(time_horizon / np.exp(1))))\n",
    "    \n",
    "    t = 0  # Laufvariable für Phase\n",
    "    z = 0  # Zeitschritte\n",
    "    \n",
    "    while z < time_horizon:\n",
    "        if t < first_phase_end:\n",
    "            for m in B:\n",
    "                max_pulls = math.ceil((2 * np.log(time_horizon * delta**2)) / delta**2)\n",
    "                if pulls[m] <= max_pulls:\n",
    "                    reward = np.random.binomial(1, arm_means[m])\n",
    "                    rewards[m] += reward\n",
    "                    pulls[m] += 1\n",
    "                    total_reward += reward\n",
    "                    total_regret += np.max(arm_means) - arm_means[m]\n",
    "                    if reward == 0:\n",
    "                        zeros_count += 1\n",
    "                    else:\n",
    "                        ones_count += 1\n",
    "                    if m != np.argmax(arm_means):\n",
    "                        suboptimal_arms_count += 1\n",
    "                    z += 1  # Erhöhe die Zeitschritte nach jedem Ziehen\n",
    "                    if z >= time_horizon:\n",
    "                        break\n",
    "            \n",
    "            if z < time_horizon:  # Nur eliminieren, wenn noch Zeit übrig ist\n",
    "                UCB_Improved_max = max((rewards[j] / pulls[j]) - np.sqrt((np.log(time_horizon * delta**2)) / (2 * max_pulls)) for j in B)\n",
    "                B = [k for k in B if (rewards[k] / pulls[k]) + np.sqrt((np.log(time_horizon * delta**2)) / (2 * max_pulls)) >= UCB_Improved_max]\n",
    "                delta /= 2\n",
    "                t += 1  # Nächste Phase starten\n",
    "        else:\n",
    "            # Zweite Phase\n",
    "            if len(B) == 1:\n",
    "                best_arm = B[0]\n",
    "            else:\n",
    "                best_arm = max(B, key=lambda k: rewards[k] / pulls[k])\n",
    "            reward = np.random.binomial(1, arm_means[best_arm])\n",
    "            total_reward += reward\n",
    "            pulls[best_arm] += 1\n",
    "            total_regret += np.max(arm_means) - arm_means[best_arm]\n",
    "            if reward == 0:\n",
    "                zeros_count += 1\n",
    "            else:\n",
    "                ones_count += 1\n",
    "            if best_arm != np.argmax(arm_means):\n",
    "                suboptimal_arms_count += 1\n",
    "            z += 1  # Erhöhe die Zeitschritte nach jedem Ziehen\n",
    "\n",
    "\n",
    "    return total_reward, suboptimal_arms_count, total_regret, zeros_count, ones_count"
   ]
  },
  {
   "cell_type": "markdown",
   "metadata": {},
   "source": [
    "## Run Simulation Function"
   ]
  },
  {
   "cell_type": "code",
   "execution_count": 4,
   "metadata": {},
   "outputs": [],
   "source": [
    "def run_simulation(algorithm, parameters, arm_means):\n",
    "    for iteration in range(1, 101):\n",
    "        for param in parameters:\n",
    "            total_reward, suboptimal_arms_count, total_regret, zeros_count, ones_count = UCB_Improved_simulation(algorithm, arm_means, param)\n",
    "            algorithm.add_result(param, iteration, total_reward, suboptimal_arms_count, total_regret, zeros_count, ones_count)"
   ]
  },
  {
   "cell_type": "markdown",
   "metadata": {},
   "source": [
    "## UCB-Improved for different time horizons"
   ]
  },
  {
   "cell_type": "code",
   "execution_count": 5,
   "metadata": {},
   "outputs": [
    {
     "name": "stderr",
     "output_type": "stream",
     "text": [
      "C:\\Users\\canis\\AppData\\Local\\Temp\\ipykernel_18336\\3639331892.py:50: RuntimeWarning: invalid value encountered in scalar divide\n",
      "  best_arm = max(B, key=lambda k: rewards[k] / pulls[k])\n"
     ]
    }
   ],
   "source": [
    "time_horizons = [2, 3, 100, 200, 2000, 10000, 20000, 40000, 60000, 80000, 100000]\n",
    "\n",
    "# Beispiel-Algorithmen\n",
    "algorithms = [\n",
    "    BanditAlgorithm(\"8_UCB-Improved\"),\n",
    "]\n",
    "\n",
    "# Beispiel-Mittelwerte der Arme\n",
    "arm_means = np.array([0.495, 0.5])\n",
    "\n",
    "# Simulation durchführen und Ergebnisse speichern\n",
    "for algorithm in algorithms:\n",
    "    run_simulation(algorithm, time_horizons, arm_means)\n",
    "    results_path = r'C:/Users/canis/OneDrive/Dokumente/uni/uni-surface/FSS 2024/BA/bachelorarbeit_vrlfg/BA/github/BA_code/2_algorithms_results'\n",
    "    algorithm.save_results_to_csv(f'{results_path}/{algorithm.name}_results_subopt_ver3.csv')\n",
    "    avg_results = algorithm.calculate_average_results()\n",
    "    with open(f'{results_path}/{algorithm.name}_average_results_subopt_ver3.csv', mode='w', newline='') as file:\n",
    "        writer = csv.writer(file)\n",
    "        writer.writerow(['Timestep', 'Average Total Reward', 'Average Suboptimal Arms', 'Average Regret', 'Average Zeros Count', 'Average Ones Count'])\n",
    "        for result in avg_results:\n",
    "            writer.writerow(result)"
   ]
  }
 ],
 "metadata": {
  "kernelspec": {
   "display_name": ".venv",
   "language": "python",
   "name": "python3"
  },
  "language_info": {
   "codemirror_mode": {
    "name": "ipython",
    "version": 3
   },
   "file_extension": ".py",
   "mimetype": "text/x-python",
   "name": "python",
   "nbconvert_exporter": "python",
   "pygments_lexer": "ipython3",
   "version": "3.10.7"
  }
 },
 "nbformat": 4,
 "nbformat_minor": 2
}
