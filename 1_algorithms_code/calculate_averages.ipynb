{
 "cells": [
  {
   "cell_type": "markdown",
   "metadata": {},
   "source": [
    "# Calculate averages for variance-aware and not-variance-aware algorithms"
   ]
  },
  {
   "cell_type": "code",
   "execution_count": 2,
   "metadata": {},
   "outputs": [
    {
     "name": "stdout",
     "output_type": "stream",
     "text": [
      "Durchschnittswerte erfolgreich berechnet und gespeichert.\n"
     ]
    }
   ],
   "source": [
    "import os\n",
    "import pandas as pd\n",
    "\n",
    "# Verzeichnispfade\n",
    "base_path = r\"C:/Users/canis/OneDrive/Dokumente/uni/uni-surface/FSS 2024/BA/bachelorarbeit_vrlfg/BA/github/BA_code/2_algorithms_results\"\n",
    "\n",
    "# Variance-aware und nicht-variance-aware Algorithmen\n",
    "var_aware_algorithms = [\"5_UCB-Tuned\", \"6_UCB-V\", \"9_EUCBV\"]\n",
    "not_var_aware_algorithms = [\"1_ETC\", \"2_Greedy\", \"3_UCB\", \"7_PAC-UCB\", \"8_UCB-Improved\"]\n",
    "\n",
    "# Dateikombinationen\n",
    "combinations = [\n",
    "    \"opt_ver1\", \"opt_ver2\", \"opt_ver3\",\n",
    "    \"subopt_ver1\", \"subopt_ver2\", \"subopt_ver3\"\n",
    "]\n",
    "\n",
    "# Funktion zum Berechnen des Durchschnitts und Speichern der Ergebnisse\n",
    "def calculate_average_and_save(algorithms, output_file_suffix):\n",
    "    for combination in combinations:\n",
    "        combined_df = None\n",
    "\n",
    "        for algorithm in algorithms:\n",
    "            file_path = os.path.join(base_path, f\"{algorithm}_average_results_{combination}.csv\")\n",
    "            df = pd.read_csv(file_path)\n",
    "\n",
    "            if combined_df is None:\n",
    "                combined_df = df\n",
    "            else:\n",
    "                combined_df.iloc[:, 1:] += df.iloc[:, 1:]  # Addiere die Werte der entsprechenden Spalten\n",
    "\n",
    "        combined_df.iloc[:, 1:] /= len(algorithms)  # Berechne den Durchschnitt\n",
    "\n",
    "        output_file_path = os.path.join(base_path, f\"average_{output_file_suffix}_{combination}.csv\")\n",
    "        combined_df.to_csv(output_file_path, index=False)\n",
    "\n",
    "# Berechne und speichere die Durchschnittswerte für variance-aware Algorithmen\n",
    "calculate_average_and_save(var_aware_algorithms, \"variance_aware\")\n",
    "\n",
    "# Berechne und speichere die Durchschnittswerte für nicht-variance-aware Algorithmen\n",
    "calculate_average_and_save(not_var_aware_algorithms, \"not_variance_aware\")\n",
    "\n",
    "print(\"Durchschnittswerte erfolgreich berechnet und gespeichert.\")\n"
   ]
  }
 ],
 "metadata": {
  "kernelspec": {
   "display_name": ".venv",
   "language": "python",
   "name": "python3"
  },
  "language_info": {
   "codemirror_mode": {
    "name": "ipython",
    "version": 3
   },
   "file_extension": ".py",
   "mimetype": "text/x-python",
   "name": "python",
   "nbconvert_exporter": "python",
   "pygments_lexer": "ipython3",
   "version": "3.10.7"
  }
 },
 "nbformat": 4,
 "nbformat_minor": 2
}
