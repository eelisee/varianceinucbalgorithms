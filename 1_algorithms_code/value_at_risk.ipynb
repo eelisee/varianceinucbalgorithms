{
 "cells": [
  {
   "cell_type": "markdown",
   "metadata": {},
   "source": [
    "# Caluclate value at risk values"
   ]
  },
  {
   "cell_type": "code",
   "execution_count": 4,
   "metadata": {},
   "outputs": [],
   "source": [
    "import pandas as pd\n",
    "import os\n",
    "\n",
    "# Pfade zu den CSV-Dateien\n",
    "base_path = r\"C:/Users/canis/OneDrive/Dokumente/uni/uni-surface/FSS 2024/BA/bachelorarbeit_vrlfg/BA/github/BA_code/2_algorithms_results\"\n",
    "output_path = r\"C:/Users/canis/OneDrive/Dokumente/uni/uni-surface/FSS 2024/BA/bachelorarbeit_vrlfg/BA/github/BA_code/2_algorithms_results/Value_at_Risk\"\n",
    "\n",
    "algorithm_data = [\n",
    "    \"1_ETC\", \"2_Greedy\", \"3_UCB\", \"4_UCB-Normal\", \"5_UCB-Tuned\", \"6_UCB-V\", \"7_PAC-UCB\", \"8_UCB-Improved\", \"9_EUCBV\", \"not_variance_aware\", \"variance_aware\"\n",
    "]\n",
    "\n",
    "alpha_values = [0.01, 0.05, 0.1]\n",
    "\n",
    "def calculate_value_at_risk(df, alpha):\n",
    "    timesteps = df['Timestep'].unique()\n",
    "    return [df[df['Timestep'] == t]['Total Regret'].quantile(1 - alpha) for t in timesteps]\n",
    "\n",
    "def main():\n",
    "    if not os.path.exists(output_path):\n",
    "        os.makedirs(output_path)\n",
    "    \n",
    "    for algo in algorithm_data:\n",
    "        results_path = os.path.join(base_path, f\"{algo}_results_opt_ver1.csv\")\n",
    "        df = pd.read_csv(results_path)\n",
    "        \n",
    "        for alpha in alpha_values:\n",
    "            var_values = calculate_value_at_risk(df, alpha)\n",
    "            output_file = os.path.join(output_path, f\"{algo}_VaR_alpha_{alpha}.csv\")\n",
    "            pd.DataFrame({\n",
    "                'Timestep': df['Timestep'].unique(),\n",
    "                'Value_at_Risk': var_values\n",
    "            }).to_csv(output_file, index=False)\n",
    "\n",
    "if __name__ == \"__main__\":\n",
    "    main()\n"
   ]
  }
 ],
 "metadata": {
  "kernelspec": {
   "display_name": ".venv",
   "language": "python",
   "name": "python3"
  },
  "language_info": {
   "codemirror_mode": {
    "name": "ipython",
    "version": 3
   },
   "file_extension": ".py",
   "mimetype": "text/x-python",
   "name": "python",
   "nbconvert_exporter": "python",
   "pygments_lexer": "ipython3",
   "version": "3.10.7"
  }
 },
 "nbformat": 4,
 "nbformat_minor": 2
}
