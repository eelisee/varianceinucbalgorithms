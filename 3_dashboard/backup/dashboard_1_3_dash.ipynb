{
 "cells": [
  {
   "cell_type": "code",
   "execution_count": 1,
   "metadata": {},
   "outputs": [
    {
     "name": "stderr",
     "output_type": "stream",
     "text": [
      "C:\\Users\\canis\\AppData\\Local\\Temp\\ipykernel_21788\\785504893.py:4: UserWarning: \n",
      "The dash_core_components package is deprecated. Please replace\n",
      "`import dash_core_components as dcc` with `from dash import dcc`\n",
      "  import dash_core_components as dcc\n",
      "C:\\Users\\canis\\AppData\\Local\\Temp\\ipykernel_21788\\785504893.py:5: UserWarning: \n",
      "The dash_html_components package is deprecated. Please replace\n",
      "`import dash_html_components as html` with `from dash import html`\n",
      "  import dash_html_components as html\n"
     ]
    },
    {
     "data": {
      "text/html": [
       "\n",
       "        <iframe\n",
       "            width=\"100%\"\n",
       "            height=\"650\"\n",
       "            src=\"http://127.0.0.1:8050/\"\n",
       "            frameborder=\"0\"\n",
       "            allowfullscreen\n",
       "            \n",
       "        ></iframe>\n",
       "        "
      ],
      "text/plain": [
       "<IPython.lib.display.IFrame at 0x16014e815a0>"
      ]
     },
     "metadata": {},
     "output_type": "display_data"
    }
   ],
   "source": [
    "import pandas as pd\n",
    "import plotly.graph_objs as go\n",
    "import dash\n",
    "import dash_core_components as dcc\n",
    "import dash_html_components as html\n",
    "from dash.dependencies import Input, Output\n",
    "from plotly.subplots import make_subplots\n",
    "import plotly.graph_objs as go\n",
    "\n",
    "# Pfade zu den CSV-Dateien\n",
    "algorithms = [\n",
    "    \"1_ETC\", \"2_Greedy\", \"3_UCB\", \"4_UCB-Normal\", \"5_UCB-V\", \"6_UCB-Tuned\", \"7_PAC-UCB\", \"8_UCB-Improved\", \"9_EUCBV\"\n",
    "]\n",
    "\n",
    "for algorithm in algorithms:\n",
    "    results_path = r'C:/Users/canis/OneDrive/Dokumente/uni/uni-surface/FSS 2024/BA/bachelorarbeit_vrlfg/BA/github/BA_code/2_algorithms_results'\n",
    "    {algorithm.name}_results = f'{results_path}/{algorithm.name}_results.csv'\n",
    "    algorithm_average_results = pd.read_csv(f'{results_path}/{algorithm.name}_average_results.csv')\n",
    "\n",
    "\n",
    "# Daten aus den CSV-Dateien lesen\n",
    "data_frames = [pd.read_csv(file) for file in file_paths]\n",
    "\n",
    "# Plotly-Figure-Objekt erstellen\n",
    "fig = make_subplots(rows=3, cols=1, subplot_titles=(\"Total Reward über die Zeitschritte\", \n",
    "                                                    \"Totaler Regret über die Zeitschritte\",\n",
    "                                                    \"Anteil von optimalen Zügen\"))\n",
    "\n",
    "# Für jeden Algorithmus Daten plotten und Beschriftungen hinzufügen\n",
    "for i, df in enumerate(data_frames):\n",
    "    # Total Reward plotten\n",
    "    fig.add_trace(go.Scatter(x=df['Timestep'], y=df['Average Total Reward'], mode='lines', name=algorithm_names[i]), row=1, col=1)\n",
    "    # Regret plotten\n",
    "    fig.add_trace(go.Scatter(x=df['Timestep'], y=df['Average Regret'], mode='lines', name=algorithm_names[i]), row=2, col=1)\n",
    "    # Optimalen Arm Anteil plotten\n",
    "    fig.add_trace(go.Scatter(x=df['Timestep'], y=df['Timestep']-df['Average Suboptimal Arms'], mode='lines', name=algorithm_names[i]), row=3, col=1)\n",
    "\n",
    "\n",
    "# Logarithmische Skalen für alle Achsen festlegen\n",
    "fig.update_xaxes(type=\"log\")\n",
    "fig.update_yaxes(type=\"log\", row=1, col=1)\n",
    "fig.update_yaxes(type=\"log\", row=2, col=1)\n",
    "fig.update_yaxes(type=\"log\", row=3, col=1)\n",
    "\n",
    "\n",
    "# HTML-Datei als Output speichern\n",
    "fig.write_html(\"dashboard_dash.html\")\n",
    "\n",
    "# Dash-App initialisieren\n",
    "app = dash.Dash(__name__)\n",
    "\n",
    "# Layout der Dash-App definieren\n",
    "app.layout = html.Div([\n",
    "    dcc.Graph(id='reward-graph', figure=fig),\n",
    "    html.Div([\n",
    "        html.H4(\"Legende\"),\n",
    "        html.Ul([html.Li(algorithm_names[i]) for i in range(len(algorithm_names))])\n",
    "    ]),\n",
    "    dcc.Graph(id='regret-graph', figure=fig),\n",
    "    html.Div([\n",
    "        html.H4(\"Legende\"),\n",
    "        html.Ul([html.Li(algorithm_names[i]) for i in range(len(algorithm_names))])\n",
    "    ]),\n",
    "    dcc.Graph(id='optimal-arm-graph', figure=fig),\n",
    "    html.Div([\n",
    "        html.H4(\"Legende\"),\n",
    "        html.Ul([html.Li(algorithm_names[i]) for i in range(len(algorithm_names))])\n",
    "    ])\n",
    "])\n",
    "\n",
    "# Dash-App ausführen\n",
    "if __name__ == '__main__':\n",
    "    app.run_server(debug=True)\n"
   ]
  }
 ],
 "metadata": {
  "kernelspec": {
   "display_name": "myenv",
   "language": "python",
   "name": "python3"
  },
  "language_info": {
   "codemirror_mode": {
    "name": "ipython",
    "version": 3
   },
   "file_extension": ".py",
   "mimetype": "text/x-python",
   "name": "python",
   "nbconvert_exporter": "python",
   "pygments_lexer": "ipython3",
   "version": "3.10.7"
  }
 },
 "nbformat": 4,
 "nbformat_minor": 2
}
